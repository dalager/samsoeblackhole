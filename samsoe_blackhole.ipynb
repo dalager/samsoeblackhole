{
 "cells": [
  {
   "cell_type": "code",
   "execution_count": 3,
   "metadata": {},
   "outputs": [],
   "source": [
    "# import modules\n",
    "import pandas as pd\n",
    "import numpy as np\n",
    "import geopandas as gpd\n",
    "import matplotlib.pyplot as plt\n",
    "from shapely.geometry import Polygon, Point\n",
    "\n",
    "number_of_points = 100000\n",
    "blackhole_point = Point(598634.467,6192216.858)\n",
    "kommune = \"Samsø\"\n"
   ]
  },
  {
   "cell_type": "code",
   "execution_count": 10,
   "metadata": {},
   "outputs": [],
   "source": [
    "# load geometry with municipalities\n",
    "print(\"Loader kortdata..\")\n",
    "kom = gpd.read_file(\"kom/KOMMUNE.shp\", usecols=[\"KOMNAVN\"]) # this is too detailed geometry\n",
    "kom = kom.dissolve(by=\"KOMNAVN\")\n",
    "kom = kom.reset_index()\n",
    "# vi vil kun have samsø\n",
    "samso = kom[kom[\"KOMNAVN\"] == kommune]\n"
   ]
  },
  {
   "cell_type": "code",
   "execution_count": 16,
   "metadata": {},
   "outputs": [],
   "source": [
    "\n",
    "print(f'Genererer {number_of_points} punkter..')\n",
    "# create a geodataframe with the same bounds as sgeo\n",
    "bounds = samso.geometry.bounds.iloc[0]\n",
    "bounding_polygon = Polygon([(bounds.minx, bounds.miny), \n",
    "                            (bounds.minx, bounds.maxy), \n",
    "                            (bounds.maxx, bounds.maxy), \n",
    "                            (bounds.maxx, bounds.miny)])\n",
    "num_points = number_of_points  # Adjust as needed\n",
    "\n",
    "# put random points in the bounding polygon\n",
    "random_points = []\n",
    "while len(random_points) < num_points:\n",
    "    # Generate a random point with uniform x and y coordinates\n",
    "    point = Point([np.random.uniform(bounds.minx, bounds.maxx),\n",
    "                   np.random.uniform(bounds.miny, bounds.maxy)])\n",
    "    # Check if the point is inside the polygon\n",
    "    # if bounding_polygon.contains(point):\n",
    "    random_points.append(point)\n",
    "\n",
    "# create a geodataframe with the random points\n",
    "noisy_polygon_gdf = gpd.GeoDataFrame(random_points, columns=['geometry'])"
   ]
  },
  {
   "cell_type": "code",
   "execution_count": 17,
   "metadata": {},
   "outputs": [],
   "source": [
    "print(\"Fjerner punkter udenfor øen..\")\n",
    "intersection = samso.geometry.iloc[0].intersection(noisy_polygon_gdf.geometry)\n",
    "samsonoise = intersection[~intersection.is_empty]"
   ]
  },
  {
   "cell_type": "code",
   "execution_count": 7,
   "metadata": {},
   "outputs": [],
   "source": [
    "def pull_towards_center(points, center, G=1):\n",
    "    \"\"\"\n",
    "    Move points towards a central point based on a gravitational-like pull.\n",
    "    \n",
    "    Parameters:\n",
    "    - points: list of Shapely Point objects to be moved.\n",
    "    - center: Shapely Point object representing the central point.\n",
    "    - G: gravitational constant to adjust the strength of the pull.\n",
    "    \n",
    "    Returns:\n",
    "    - List of new Shapely Point objects after being moved.\n",
    "    \"\"\"\n",
    "    new_points = []\n",
    "    for point in points:\n",
    "        # Calculate distance and direction to the center\n",
    "        dx = center.x - point.x\n",
    "        dy = center.y - point.y\n",
    "        distance = point.distance(center)\n",
    "        \n",
    "        # Calculate the force using the gravitational formula\n",
    "        # Assuming m1 = m2 = 1 for simplicity\n",
    "        F = G / (distance**2)\n",
    "        \n",
    "        # Move the point towards the center based on the force\n",
    "        new_x = point.x + F * dx\n",
    "        new_y = point.y + F * dy\n",
    "        \n",
    "        dx2 = center.x - new_x\n",
    "        dy2 = center.y - new_y\n",
    "        # is the new point on the other side of the center now?\n",
    "        if dx * dx2 < 0 or dy * dy2 < 0:\n",
    "            #new_x = center.x\n",
    "            #new_y = center.y\n",
    "            continue\n",
    "\n",
    "        new_points.append(Point(new_x, new_y))\n",
    "    \n",
    "    return new_points"
   ]
  },
  {
   "cell_type": "code",
   "execution_count": 18,
   "metadata": {},
   "outputs": [],
   "source": [
    "def plot_it(datapoints, index=0):\n",
    "    fig,ax = plt.subplots(figsize=(15,15))\n",
    "    samso.plot(ax=ax, color='#eee', edgecolor='#333', linewidth=0.1)\n",
    "    plotpoints = gpd.GeoDataFrame(datapoints, columns=['geometry'])\n",
    "    plotpoints.plot(ax=ax,markersize=0.1,alpha=0.7,color='#880808')\n",
    "    jeppe = blackhole_point\n",
    "    jeppe = gpd.GeoDataFrame([jeppe], columns=['geometry'])\n",
    "    jeppe.plot(ax=ax,markersize=3,color='black',marker='*')\n",
    "    ax.set_axis_off()\n",
    "    fig.savefig(\"out/plot_{:03d}.png\".format(index), dpi=100, bbox_inches=\"tight\")\n",
    "    plt.close()\n"
   ]
  },
  {
   "cell_type": "code",
   "execution_count": null,
   "metadata": {},
   "outputs": [],
   "source": [
    "\n",
    "print(\"genererer animation..\")\n",
    "blackhole = blackhole_point\n",
    "index=1\n",
    "pointdata=samsonoise.copy()\n",
    "for i in range(10):\n",
    "    plot_it(pointdata,index)\n",
    "    index+=1\n",
    "while len(pointdata)>0:\n",
    "    pointdata = pull_towards_center(pointdata, blackhole, G=0.5 * 1000000)\n",
    "    plot_it(pointdata,index)\n",
    "    index+=1\n",
    "\n",
    "for i in range(10):\n",
    "    plot_it(pointdata,index)\n",
    "    index+=1\n",
    "\n",
    "print(f'Færdig, {index} billeder gemt i out/plot_*.png')\n",
    "print('Kør make_video.ps1 for at lave video (kræver ffmpeg)')\n"
   ]
  }
 ],
 "metadata": {
  "kernelspec": {
   "display_name": "Python 3",
   "language": "python",
   "name": "python3"
  },
  "language_info": {
   "codemirror_mode": {
    "name": "ipython",
    "version": 3
   },
   "file_extension": ".py",
   "mimetype": "text/x-python",
   "name": "python",
   "nbconvert_exporter": "python",
   "pygments_lexer": "ipython3",
   "version": "3.9.18"
  }
 },
 "nbformat": 4,
 "nbformat_minor": 4
}
